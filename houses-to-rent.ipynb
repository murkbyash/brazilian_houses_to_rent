{
 "cells": [
  {
   "cell_type": "code",
   "execution_count": 1,
   "id": "cross-affiliate",
   "metadata": {
    "_cell_guid": "b1076dfc-b9ad-4769-8c92-a6c4dae69d19",
    "_uuid": "8f2839f25d086af736a60e9eeb907d3b93b6e0e5",
    "execution": {
     "iopub.execute_input": "2021-06-05T16:06:33.262748Z",
     "iopub.status.busy": "2021-06-05T16:06:33.262054Z",
     "iopub.status.idle": "2021-06-05T16:06:33.270904Z",
     "shell.execute_reply": "2021-06-05T16:06:33.270255Z",
     "shell.execute_reply.started": "2021-06-05T16:05:51.617891Z"
    },
    "papermill": {
     "duration": 0.047794,
     "end_time": "2021-06-05T16:06:33.271104",
     "exception": false,
     "start_time": "2021-06-05T16:06:33.223310",
     "status": "completed"
    },
    "tags": []
   },
   "outputs": [
    {
     "name": "stdout",
     "output_type": "stream",
     "text": [
      "/kaggle/input/brasilian-houses-to-rent/houses_to_rent.csv\n",
      "/kaggle/input/brasilian-houses-to-rent/houses_to_rent_v2.csv\n"
     ]
    }
   ],
   "source": [
    "# This Python 3 environment comes with many helpful analytics libraries installed\n",
    "# It is defined by the kaggle/python Docker image: https://github.com/kaggle/docker-python\n",
    "# For example, here's several helpful packages to load\n",
    "\n",
    "import numpy as np # linear algebra\n",
    "import pandas as pd # data processing, CSV file I/O (e.g. pd.read_csv)\n",
    "\n",
    "# Input data files are available in the read-only \"../input/\" directory\n",
    "# For example, running this (by clicking run or pressing Shift+Enter) will list all files under the input directory\n",
    "\n",
    "import os\n",
    "for dirname, _, filenames in os.walk('/kaggle/input'):\n",
    "    for filename in filenames:\n",
    "        print(os.path.join(dirname, filename))\n",
    "\n",
    "# You can write up to 20GB to the current directory (/kaggle/working/) that gets preserved as output when you create a version using \"Save & Run All\" \n",
    "# You can also write temporary files to /kaggle/temp/, but they won't be saved outside of the current session"
   ]
  },
  {
   "cell_type": "code",
   "execution_count": 2,
   "id": "serious-hearing",
   "metadata": {
    "execution": {
     "iopub.execute_input": "2021-06-05T16:06:33.330684Z",
     "iopub.status.busy": "2021-06-05T16:06:33.329959Z",
     "iopub.status.idle": "2021-06-05T16:06:33.392263Z",
     "shell.execute_reply": "2021-06-05T16:06:33.391683Z",
     "shell.execute_reply.started": "2021-06-05T16:05:51.633560Z"
    },
    "papermill": {
     "duration": 0.094172,
     "end_time": "2021-06-05T16:06:33.392432",
     "exception": false,
     "start_time": "2021-06-05T16:06:33.298260",
     "status": "completed"
    },
    "tags": []
   },
   "outputs": [
    {
     "data": {
      "text/html": [
       "<div>\n",
       "<style scoped>\n",
       "    .dataframe tbody tr th:only-of-type {\n",
       "        vertical-align: middle;\n",
       "    }\n",
       "\n",
       "    .dataframe tbody tr th {\n",
       "        vertical-align: top;\n",
       "    }\n",
       "\n",
       "    .dataframe thead th {\n",
       "        text-align: right;\n",
       "    }\n",
       "</style>\n",
       "<table border=\"1\" class=\"dataframe\">\n",
       "  <thead>\n",
       "    <tr style=\"text-align: right;\">\n",
       "      <th></th>\n",
       "      <th>Unnamed: 0</th>\n",
       "      <th>city</th>\n",
       "      <th>area</th>\n",
       "      <th>rooms</th>\n",
       "      <th>bathroom</th>\n",
       "      <th>parking spaces</th>\n",
       "      <th>floor</th>\n",
       "      <th>animal</th>\n",
       "      <th>furniture</th>\n",
       "      <th>hoa</th>\n",
       "      <th>rent amount</th>\n",
       "      <th>property tax</th>\n",
       "      <th>fire insurance</th>\n",
       "      <th>total</th>\n",
       "    </tr>\n",
       "  </thead>\n",
       "  <tbody>\n",
       "    <tr>\n",
       "      <th>0</th>\n",
       "      <td>0</td>\n",
       "      <td>1</td>\n",
       "      <td>240</td>\n",
       "      <td>3</td>\n",
       "      <td>3</td>\n",
       "      <td>4</td>\n",
       "      <td>-</td>\n",
       "      <td>acept</td>\n",
       "      <td>furnished</td>\n",
       "      <td>R$0</td>\n",
       "      <td>R$8,000</td>\n",
       "      <td>R$1,000</td>\n",
       "      <td>R$121</td>\n",
       "      <td>R$9,121</td>\n",
       "    </tr>\n",
       "    <tr>\n",
       "      <th>1</th>\n",
       "      <td>1</td>\n",
       "      <td>0</td>\n",
       "      <td>64</td>\n",
       "      <td>2</td>\n",
       "      <td>1</td>\n",
       "      <td>1</td>\n",
       "      <td>10</td>\n",
       "      <td>acept</td>\n",
       "      <td>not furnished</td>\n",
       "      <td>R$540</td>\n",
       "      <td>R$820</td>\n",
       "      <td>R$122</td>\n",
       "      <td>R$11</td>\n",
       "      <td>R$1,493</td>\n",
       "    </tr>\n",
       "    <tr>\n",
       "      <th>2</th>\n",
       "      <td>2</td>\n",
       "      <td>1</td>\n",
       "      <td>443</td>\n",
       "      <td>5</td>\n",
       "      <td>5</td>\n",
       "      <td>4</td>\n",
       "      <td>3</td>\n",
       "      <td>acept</td>\n",
       "      <td>furnished</td>\n",
       "      <td>R$4,172</td>\n",
       "      <td>R$7,000</td>\n",
       "      <td>R$1,417</td>\n",
       "      <td>R$89</td>\n",
       "      <td>R$12,680</td>\n",
       "    </tr>\n",
       "    <tr>\n",
       "      <th>3</th>\n",
       "      <td>3</td>\n",
       "      <td>1</td>\n",
       "      <td>73</td>\n",
       "      <td>2</td>\n",
       "      <td>2</td>\n",
       "      <td>1</td>\n",
       "      <td>12</td>\n",
       "      <td>acept</td>\n",
       "      <td>not furnished</td>\n",
       "      <td>R$700</td>\n",
       "      <td>R$1,250</td>\n",
       "      <td>R$150</td>\n",
       "      <td>R$16</td>\n",
       "      <td>R$2,116</td>\n",
       "    </tr>\n",
       "    <tr>\n",
       "      <th>4</th>\n",
       "      <td>4</td>\n",
       "      <td>1</td>\n",
       "      <td>19</td>\n",
       "      <td>1</td>\n",
       "      <td>1</td>\n",
       "      <td>0</td>\n",
       "      <td>-</td>\n",
       "      <td>not acept</td>\n",
       "      <td>not furnished</td>\n",
       "      <td>R$0</td>\n",
       "      <td>R$1,200</td>\n",
       "      <td>R$41</td>\n",
       "      <td>R$16</td>\n",
       "      <td>R$1,257</td>\n",
       "    </tr>\n",
       "  </tbody>\n",
       "</table>\n",
       "</div>"
      ],
      "text/plain": [
       "   Unnamed: 0  city  area  rooms  bathroom  parking spaces floor     animal  \\\n",
       "0           0     1   240      3         3               4     -      acept   \n",
       "1           1     0    64      2         1               1    10      acept   \n",
       "2           2     1   443      5         5               4     3      acept   \n",
       "3           3     1    73      2         2               1    12      acept   \n",
       "4           4     1    19      1         1               0     -  not acept   \n",
       "\n",
       "       furniture      hoa rent amount property tax fire insurance     total  \n",
       "0      furnished      R$0     R$8,000      R$1,000          R$121   R$9,121  \n",
       "1  not furnished    R$540       R$820        R$122           R$11   R$1,493  \n",
       "2      furnished  R$4,172     R$7,000      R$1,417           R$89  R$12,680  \n",
       "3  not furnished    R$700     R$1,250        R$150           R$16   R$2,116  \n",
       "4  not furnished      R$0     R$1,200         R$41           R$16   R$1,257  "
      ]
     },
     "execution_count": 2,
     "metadata": {},
     "output_type": "execute_result"
    }
   ],
   "source": [
    "df = pd.read_csv(\"/kaggle/input/brasilian-houses-to-rent/houses_to_rent.csv\")\n",
    "df.head()"
   ]
  },
  {
   "cell_type": "code",
   "execution_count": 3,
   "id": "furnished-treaty",
   "metadata": {
    "execution": {
     "iopub.execute_input": "2021-06-05T16:06:33.453198Z",
     "iopub.status.busy": "2021-06-05T16:06:33.452157Z",
     "iopub.status.idle": "2021-06-05T16:06:33.456429Z",
     "shell.execute_reply": "2021-06-05T16:06:33.456920Z",
     "shell.execute_reply.started": "2021-06-05T16:05:51.674819Z"
    },
    "papermill": {
     "duration": 0.037434,
     "end_time": "2021-06-05T16:06:33.457136",
     "exception": false,
     "start_time": "2021-06-05T16:06:33.419702",
     "status": "completed"
    },
    "tags": []
   },
   "outputs": [
    {
     "data": {
      "text/plain": [
       "(6080, 14)"
      ]
     },
     "execution_count": 3,
     "metadata": {},
     "output_type": "execute_result"
    }
   ],
   "source": [
    "df.shape"
   ]
  },
  {
   "cell_type": "code",
   "execution_count": 4,
   "id": "fiscal-mapping",
   "metadata": {
    "execution": {
     "iopub.execute_input": "2021-06-05T16:06:33.515154Z",
     "iopub.status.busy": "2021-06-05T16:06:33.514057Z",
     "iopub.status.idle": "2021-06-05T16:06:33.523372Z",
     "shell.execute_reply": "2021-06-05T16:06:33.523879Z",
     "shell.execute_reply.started": "2021-06-05T16:05:51.684560Z"
    },
    "papermill": {
     "duration": 0.039749,
     "end_time": "2021-06-05T16:06:33.524091",
     "exception": false,
     "start_time": "2021-06-05T16:06:33.484342",
     "status": "completed"
    },
    "tags": []
   },
   "outputs": [],
   "source": [
    "df.drop(df.columns[0],axis =1, inplace = True)"
   ]
  },
  {
   "cell_type": "code",
   "execution_count": 5,
   "id": "enabling-hampton",
   "metadata": {
    "execution": {
     "iopub.execute_input": "2021-06-05T16:06:33.596178Z",
     "iopub.status.busy": "2021-06-05T16:06:33.595460Z",
     "iopub.status.idle": "2021-06-05T16:06:33.598974Z",
     "shell.execute_reply": "2021-06-05T16:06:33.599424Z",
     "shell.execute_reply.started": "2021-06-05T16:05:51.704886Z"
    },
    "papermill": {
     "duration": 0.047893,
     "end_time": "2021-06-05T16:06:33.599623",
     "exception": false,
     "start_time": "2021-06-05T16:06:33.551730",
     "status": "completed"
    },
    "tags": []
   },
   "outputs": [
    {
     "data": {
      "text/html": [
       "<div>\n",
       "<style scoped>\n",
       "    .dataframe tbody tr th:only-of-type {\n",
       "        vertical-align: middle;\n",
       "    }\n",
       "\n",
       "    .dataframe tbody tr th {\n",
       "        vertical-align: top;\n",
       "    }\n",
       "\n",
       "    .dataframe thead th {\n",
       "        text-align: right;\n",
       "    }\n",
       "</style>\n",
       "<table border=\"1\" class=\"dataframe\">\n",
       "  <thead>\n",
       "    <tr style=\"text-align: right;\">\n",
       "      <th></th>\n",
       "      <th>city</th>\n",
       "      <th>area</th>\n",
       "      <th>rooms</th>\n",
       "      <th>bathroom</th>\n",
       "      <th>parking spaces</th>\n",
       "      <th>floor</th>\n",
       "      <th>animal</th>\n",
       "      <th>furniture</th>\n",
       "      <th>hoa</th>\n",
       "      <th>rent amount</th>\n",
       "      <th>property tax</th>\n",
       "      <th>fire insurance</th>\n",
       "      <th>total</th>\n",
       "    </tr>\n",
       "  </thead>\n",
       "  <tbody>\n",
       "    <tr>\n",
       "      <th>0</th>\n",
       "      <td>1</td>\n",
       "      <td>240</td>\n",
       "      <td>3</td>\n",
       "      <td>3</td>\n",
       "      <td>4</td>\n",
       "      <td>-</td>\n",
       "      <td>acept</td>\n",
       "      <td>furnished</td>\n",
       "      <td>R$0</td>\n",
       "      <td>R$8,000</td>\n",
       "      <td>R$1,000</td>\n",
       "      <td>R$121</td>\n",
       "      <td>R$9,121</td>\n",
       "    </tr>\n",
       "    <tr>\n",
       "      <th>1</th>\n",
       "      <td>0</td>\n",
       "      <td>64</td>\n",
       "      <td>2</td>\n",
       "      <td>1</td>\n",
       "      <td>1</td>\n",
       "      <td>10</td>\n",
       "      <td>acept</td>\n",
       "      <td>not furnished</td>\n",
       "      <td>R$540</td>\n",
       "      <td>R$820</td>\n",
       "      <td>R$122</td>\n",
       "      <td>R$11</td>\n",
       "      <td>R$1,493</td>\n",
       "    </tr>\n",
       "    <tr>\n",
       "      <th>2</th>\n",
       "      <td>1</td>\n",
       "      <td>443</td>\n",
       "      <td>5</td>\n",
       "      <td>5</td>\n",
       "      <td>4</td>\n",
       "      <td>3</td>\n",
       "      <td>acept</td>\n",
       "      <td>furnished</td>\n",
       "      <td>R$4,172</td>\n",
       "      <td>R$7,000</td>\n",
       "      <td>R$1,417</td>\n",
       "      <td>R$89</td>\n",
       "      <td>R$12,680</td>\n",
       "    </tr>\n",
       "    <tr>\n",
       "      <th>3</th>\n",
       "      <td>1</td>\n",
       "      <td>73</td>\n",
       "      <td>2</td>\n",
       "      <td>2</td>\n",
       "      <td>1</td>\n",
       "      <td>12</td>\n",
       "      <td>acept</td>\n",
       "      <td>not furnished</td>\n",
       "      <td>R$700</td>\n",
       "      <td>R$1,250</td>\n",
       "      <td>R$150</td>\n",
       "      <td>R$16</td>\n",
       "      <td>R$2,116</td>\n",
       "    </tr>\n",
       "    <tr>\n",
       "      <th>4</th>\n",
       "      <td>1</td>\n",
       "      <td>19</td>\n",
       "      <td>1</td>\n",
       "      <td>1</td>\n",
       "      <td>0</td>\n",
       "      <td>-</td>\n",
       "      <td>not acept</td>\n",
       "      <td>not furnished</td>\n",
       "      <td>R$0</td>\n",
       "      <td>R$1,200</td>\n",
       "      <td>R$41</td>\n",
       "      <td>R$16</td>\n",
       "      <td>R$1,257</td>\n",
       "    </tr>\n",
       "  </tbody>\n",
       "</table>\n",
       "</div>"
      ],
      "text/plain": [
       "   city  area  rooms  bathroom  parking spaces floor     animal  \\\n",
       "0     1   240      3         3               4     -      acept   \n",
       "1     0    64      2         1               1    10      acept   \n",
       "2     1   443      5         5               4     3      acept   \n",
       "3     1    73      2         2               1    12      acept   \n",
       "4     1    19      1         1               0     -  not acept   \n",
       "\n",
       "       furniture      hoa rent amount property tax fire insurance     total  \n",
       "0      furnished      R$0     R$8,000      R$1,000          R$121   R$9,121  \n",
       "1  not furnished    R$540       R$820        R$122           R$11   R$1,493  \n",
       "2      furnished  R$4,172     R$7,000      R$1,417           R$89  R$12,680  \n",
       "3  not furnished    R$700     R$1,250        R$150           R$16   R$2,116  \n",
       "4  not furnished      R$0     R$1,200         R$41           R$16   R$1,257  "
      ]
     },
     "execution_count": 5,
     "metadata": {},
     "output_type": "execute_result"
    }
   ],
   "source": [
    "df.head()"
   ]
  },
  {
   "cell_type": "code",
   "execution_count": 6,
   "id": "available-election",
   "metadata": {
    "execution": {
     "iopub.execute_input": "2021-06-05T16:06:33.658144Z",
     "iopub.status.busy": "2021-06-05T16:06:33.657382Z",
     "iopub.status.idle": "2021-06-05T16:06:33.677373Z",
     "shell.execute_reply": "2021-06-05T16:06:33.676775Z",
     "shell.execute_reply.started": "2021-06-05T16:05:51.728431Z"
    },
    "papermill": {
     "duration": 0.050223,
     "end_time": "2021-06-05T16:06:33.677519",
     "exception": false,
     "start_time": "2021-06-05T16:06:33.627296",
     "status": "completed"
    },
    "tags": []
   },
   "outputs": [],
   "source": [
    "df['floor'].replace(to_replace= \"-\", value = 0, inplace = True)\n",
    "df['animal'].replace(to_replace = \"acept\",value =1, inplace = True)\n",
    "df['animal'].replace(to_replace = \"not acept\",value =1, inplace = True)\n",
    "df['furniture'].replace(to_replace = \"furnished\", value =1, inplace = True)\n",
    "df['furniture'].replace(to_replace = \"not furnished\",value = 0, inplace = True)"
   ]
  },
  {
   "cell_type": "code",
   "execution_count": 7,
   "id": "blessed-camcorder",
   "metadata": {
    "execution": {
     "iopub.execute_input": "2021-06-05T16:06:33.738896Z",
     "iopub.status.busy": "2021-06-05T16:06:33.738243Z",
     "iopub.status.idle": "2021-06-05T16:06:33.859906Z",
     "shell.execute_reply": "2021-06-05T16:06:33.860407Z",
     "shell.execute_reply.started": "2021-06-05T16:05:51.755313Z"
    },
    "papermill": {
     "duration": 0.155316,
     "end_time": "2021-06-05T16:06:33.860605",
     "exception": false,
     "start_time": "2021-06-05T16:06:33.705289",
     "status": "completed"
    },
    "tags": []
   },
   "outputs": [],
   "source": [
    "for col in ['hoa',\t'rent amount',\t'property tax',\t'fire insurance',\t'total']:\n",
    "    df[col].replace(to_replace = \"R\\$\", value = \"\", regex = True, inplace = True)\n",
    "    df[col].replace(to_replace = \",\", value = \"\",regex = True, inplace = True)\n"
   ]
  },
  {
   "cell_type": "code",
   "execution_count": 8,
   "id": "decent-sound",
   "metadata": {
    "execution": {
     "iopub.execute_input": "2021-06-05T16:06:33.919342Z",
     "iopub.status.busy": "2021-06-05T16:06:33.918652Z",
     "iopub.status.idle": "2021-06-05T16:06:33.934571Z",
     "shell.execute_reply": "2021-06-05T16:06:33.935133Z",
     "shell.execute_reply.started": "2021-06-05T16:05:51.883961Z"
    },
    "papermill": {
     "duration": 0.046984,
     "end_time": "2021-06-05T16:06:33.935311",
     "exception": false,
     "start_time": "2021-06-05T16:06:33.888327",
     "status": "completed"
    },
    "tags": []
   },
   "outputs": [
    {
     "data": {
      "text/plain": [
       "city              False\n",
       "area              False\n",
       "rooms             False\n",
       "bathroom          False\n",
       "parking spaces    False\n",
       "floor             False\n",
       "animal            False\n",
       "furniture         False\n",
       "hoa                True\n",
       "rent amount       False\n",
       "property tax      False\n",
       "fire insurance    False\n",
       "total             False\n",
       "dtype: bool"
      ]
     },
     "execution_count": 8,
     "metadata": {},
     "output_type": "execute_result"
    }
   ],
   "source": [
    "df.isin(['Sem info']).any()"
   ]
  },
  {
   "cell_type": "code",
   "execution_count": 9,
   "id": "automatic-activity",
   "metadata": {
    "execution": {
     "iopub.execute_input": "2021-06-05T16:06:34.000514Z",
     "iopub.status.busy": "2021-06-05T16:06:33.999170Z",
     "iopub.status.idle": "2021-06-05T16:06:34.002626Z",
     "shell.execute_reply": "2021-06-05T16:06:34.002041Z",
     "shell.execute_reply.started": "2021-06-05T16:05:51.902496Z"
    },
    "papermill": {
     "duration": 0.039397,
     "end_time": "2021-06-05T16:06:34.002766",
     "exception": false,
     "start_time": "2021-06-05T16:06:33.963369",
     "status": "completed"
    },
    "tags": []
   },
   "outputs": [],
   "source": [
    "df['hoa'].replace(to_replace = 'Sem info', value = '0', inplace = True)"
   ]
  },
  {
   "cell_type": "code",
   "execution_count": 10,
   "id": "shaped-intro",
   "metadata": {
    "execution": {
     "iopub.execute_input": "2021-06-05T16:06:34.067156Z",
     "iopub.status.busy": "2021-06-05T16:06:34.065850Z",
     "iopub.status.idle": "2021-06-05T16:06:34.078849Z",
     "shell.execute_reply": "2021-06-05T16:06:34.078229Z",
     "shell.execute_reply.started": "2021-06-05T16:05:51.910196Z"
    },
    "papermill": {
     "duration": 0.047022,
     "end_time": "2021-06-05T16:06:34.079007",
     "exception": false,
     "start_time": "2021-06-05T16:06:34.031985",
     "status": "completed"
    },
    "tags": []
   },
   "outputs": [
    {
     "data": {
      "text/plain": [
       "city              False\n",
       "area              False\n",
       "rooms             False\n",
       "bathroom          False\n",
       "parking spaces    False\n",
       "floor             False\n",
       "animal            False\n",
       "furniture         False\n",
       "hoa                True\n",
       "rent amount       False\n",
       "property tax       True\n",
       "fire insurance    False\n",
       "total             False\n",
       "dtype: bool"
      ]
     },
     "execution_count": 10,
     "metadata": {},
     "output_type": "execute_result"
    }
   ],
   "source": [
    "df.isin(['Incluso']).any()"
   ]
  },
  {
   "cell_type": "code",
   "execution_count": 11,
   "id": "gross-thong",
   "metadata": {
    "execution": {
     "iopub.execute_input": "2021-06-05T16:06:34.140179Z",
     "iopub.status.busy": "2021-06-05T16:06:34.139285Z",
     "iopub.status.idle": "2021-06-05T16:06:34.145883Z",
     "shell.execute_reply": "2021-06-05T16:06:34.146447Z",
     "shell.execute_reply.started": "2021-06-05T16:05:51.944506Z"
    },
    "papermill": {
     "duration": 0.038671,
     "end_time": "2021-06-05T16:06:34.146653",
     "exception": false,
     "start_time": "2021-06-05T16:06:34.107982",
     "status": "completed"
    },
    "tags": []
   },
   "outputs": [],
   "source": [
    "df['hoa'].replace(to_replace = 'Incluso', value = '0', inplace = True)\n",
    "df['property tax'].replace(to_replace = 'Incluso', value = '0', inplace = True)"
   ]
  },
  {
   "cell_type": "code",
   "execution_count": 12,
   "id": "hungry-vault",
   "metadata": {
    "execution": {
     "iopub.execute_input": "2021-06-05T16:06:34.207033Z",
     "iopub.status.busy": "2021-06-05T16:06:34.206360Z",
     "iopub.status.idle": "2021-06-05T16:06:34.216873Z",
     "shell.execute_reply": "2021-06-05T16:06:34.217552Z",
     "shell.execute_reply.started": "2021-06-05T16:05:51.954153Z"
    },
    "papermill": {
     "duration": 0.042371,
     "end_time": "2021-06-05T16:06:34.217750",
     "exception": false,
     "start_time": "2021-06-05T16:06:34.175379",
     "status": "completed"
    },
    "tags": []
   },
   "outputs": [],
   "source": [
    "df = df.astype(dtype = np.int64)"
   ]
  },
  {
   "cell_type": "code",
   "execution_count": 13,
   "id": "noted-offset",
   "metadata": {
    "execution": {
     "iopub.execute_input": "2021-06-05T16:06:34.279919Z",
     "iopub.status.busy": "2021-06-05T16:06:34.279166Z",
     "iopub.status.idle": "2021-06-05T16:06:34.300751Z",
     "shell.execute_reply": "2021-06-05T16:06:34.301246Z",
     "shell.execute_reply.started": "2021-06-05T16:05:51.976830Z"
    },
    "papermill": {
     "duration": 0.054961,
     "end_time": "2021-06-05T16:06:34.301434",
     "exception": false,
     "start_time": "2021-06-05T16:06:34.246473",
     "status": "completed"
    },
    "tags": []
   },
   "outputs": [
    {
     "data": {
      "text/html": [
       "<div>\n",
       "<style scoped>\n",
       "    .dataframe tbody tr th:only-of-type {\n",
       "        vertical-align: middle;\n",
       "    }\n",
       "\n",
       "    .dataframe tbody tr th {\n",
       "        vertical-align: top;\n",
       "    }\n",
       "\n",
       "    .dataframe thead th {\n",
       "        text-align: right;\n",
       "    }\n",
       "</style>\n",
       "<table border=\"1\" class=\"dataframe\">\n",
       "  <thead>\n",
       "    <tr style=\"text-align: right;\">\n",
       "      <th></th>\n",
       "      <th>city</th>\n",
       "      <th>area</th>\n",
       "      <th>rooms</th>\n",
       "      <th>bathroom</th>\n",
       "      <th>parking spaces</th>\n",
       "      <th>floor</th>\n",
       "      <th>animal</th>\n",
       "      <th>furniture</th>\n",
       "      <th>hoa</th>\n",
       "      <th>rent amount</th>\n",
       "      <th>property tax</th>\n",
       "      <th>fire insurance</th>\n",
       "      <th>total</th>\n",
       "    </tr>\n",
       "  </thead>\n",
       "  <tbody>\n",
       "    <tr>\n",
       "      <th>0</th>\n",
       "      <td>1</td>\n",
       "      <td>16</td>\n",
       "      <td>1</td>\n",
       "      <td>1</td>\n",
       "      <td>0</td>\n",
       "      <td>2</td>\n",
       "      <td>1</td>\n",
       "      <td>0</td>\n",
       "      <td>397</td>\n",
       "      <td>899</td>\n",
       "      <td>18</td>\n",
       "      <td>12</td>\n",
       "      <td>1326</td>\n",
       "    </tr>\n",
       "    <tr>\n",
       "      <th>1</th>\n",
       "      <td>1</td>\n",
       "      <td>40</td>\n",
       "      <td>1</td>\n",
       "      <td>1</td>\n",
       "      <td>0</td>\n",
       "      <td>0</td>\n",
       "      <td>1</td>\n",
       "      <td>0</td>\n",
       "      <td>0</td>\n",
       "      <td>750</td>\n",
       "      <td>0</td>\n",
       "      <td>12</td>\n",
       "      <td>762</td>\n",
       "    </tr>\n",
       "    <tr>\n",
       "      <th>2</th>\n",
       "      <td>1</td>\n",
       "      <td>76</td>\n",
       "      <td>3</td>\n",
       "      <td>2</td>\n",
       "      <td>0</td>\n",
       "      <td>4</td>\n",
       "      <td>1</td>\n",
       "      <td>0</td>\n",
       "      <td>780</td>\n",
       "      <td>1600</td>\n",
       "      <td>54</td>\n",
       "      <td>21</td>\n",
       "      <td>2455</td>\n",
       "    </tr>\n",
       "    <tr>\n",
       "      <th>3</th>\n",
       "      <td>1</td>\n",
       "      <td>80</td>\n",
       "      <td>2</td>\n",
       "      <td>2</td>\n",
       "      <td>1</td>\n",
       "      <td>8</td>\n",
       "      <td>1</td>\n",
       "      <td>1</td>\n",
       "      <td>1100</td>\n",
       "      <td>3452</td>\n",
       "      <td>190</td>\n",
       "      <td>44</td>\n",
       "      <td>4786</td>\n",
       "    </tr>\n",
       "    <tr>\n",
       "      <th>4</th>\n",
       "      <td>1</td>\n",
       "      <td>645</td>\n",
       "      <td>5</td>\n",
       "      <td>8</td>\n",
       "      <td>8</td>\n",
       "      <td>0</td>\n",
       "      <td>1</td>\n",
       "      <td>0</td>\n",
       "      <td>0</td>\n",
       "      <td>15000</td>\n",
       "      <td>2334</td>\n",
       "      <td>226</td>\n",
       "      <td>17560</td>\n",
       "    </tr>\n",
       "    <tr>\n",
       "      <th>...</th>\n",
       "      <td>...</td>\n",
       "      <td>...</td>\n",
       "      <td>...</td>\n",
       "      <td>...</td>\n",
       "      <td>...</td>\n",
       "      <td>...</td>\n",
       "      <td>...</td>\n",
       "      <td>...</td>\n",
       "      <td>...</td>\n",
       "      <td>...</td>\n",
       "      <td>...</td>\n",
       "      <td>...</td>\n",
       "      <td>...</td>\n",
       "    </tr>\n",
       "    <tr>\n",
       "      <th>6075</th>\n",
       "      <td>1</td>\n",
       "      <td>240</td>\n",
       "      <td>3</td>\n",
       "      <td>3</td>\n",
       "      <td>2</td>\n",
       "      <td>0</td>\n",
       "      <td>1</td>\n",
       "      <td>1</td>\n",
       "      <td>0</td>\n",
       "      <td>4350</td>\n",
       "      <td>385</td>\n",
       "      <td>66</td>\n",
       "      <td>4801</td>\n",
       "    </tr>\n",
       "    <tr>\n",
       "      <th>6076</th>\n",
       "      <td>1</td>\n",
       "      <td>800</td>\n",
       "      <td>5</td>\n",
       "      <td>4</td>\n",
       "      <td>6</td>\n",
       "      <td>0</td>\n",
       "      <td>1</td>\n",
       "      <td>1</td>\n",
       "      <td>0</td>\n",
       "      <td>12000</td>\n",
       "      <td>459</td>\n",
       "      <td>181</td>\n",
       "      <td>12640</td>\n",
       "    </tr>\n",
       "    <tr>\n",
       "      <th>6077</th>\n",
       "      <td>0</td>\n",
       "      <td>208</td>\n",
       "      <td>3</td>\n",
       "      <td>2</td>\n",
       "      <td>4</td>\n",
       "      <td>0</td>\n",
       "      <td>1</td>\n",
       "      <td>0</td>\n",
       "      <td>0</td>\n",
       "      <td>3180</td>\n",
       "      <td>100</td>\n",
       "      <td>48</td>\n",
       "      <td>3328</td>\n",
       "    </tr>\n",
       "    <tr>\n",
       "      <th>6078</th>\n",
       "      <td>0</td>\n",
       "      <td>350</td>\n",
       "      <td>4</td>\n",
       "      <td>5</td>\n",
       "      <td>4</td>\n",
       "      <td>0</td>\n",
       "      <td>1</td>\n",
       "      <td>0</td>\n",
       "      <td>680</td>\n",
       "      <td>8000</td>\n",
       "      <td>417</td>\n",
       "      <td>121</td>\n",
       "      <td>9218</td>\n",
       "    </tr>\n",
       "    <tr>\n",
       "      <th>6079</th>\n",
       "      <td>1</td>\n",
       "      <td>72</td>\n",
       "      <td>2</td>\n",
       "      <td>2</td>\n",
       "      <td>1</td>\n",
       "      <td>7</td>\n",
       "      <td>1</td>\n",
       "      <td>0</td>\n",
       "      <td>598</td>\n",
       "      <td>1780</td>\n",
       "      <td>0</td>\n",
       "      <td>23</td>\n",
       "      <td>2401</td>\n",
       "    </tr>\n",
       "  </tbody>\n",
       "</table>\n",
       "<p>6080 rows × 13 columns</p>\n",
       "</div>"
      ],
      "text/plain": [
       "      city  area  rooms  bathroom  parking spaces  floor  animal  furniture  \\\n",
       "0        1    16      1         1               0      2       1          0   \n",
       "1        1    40      1         1               0      0       1          0   \n",
       "2        1    76      3         2               0      4       1          0   \n",
       "3        1    80      2         2               1      8       1          1   \n",
       "4        1   645      5         8               8      0       1          0   \n",
       "...    ...   ...    ...       ...             ...    ...     ...        ...   \n",
       "6075     1   240      3         3               2      0       1          1   \n",
       "6076     1   800      5         4               6      0       1          1   \n",
       "6077     0   208      3         2               4      0       1          0   \n",
       "6078     0   350      4         5               4      0       1          0   \n",
       "6079     1    72      2         2               1      7       1          0   \n",
       "\n",
       "       hoa  rent amount  property tax  fire insurance  total  \n",
       "0      397          899            18              12   1326  \n",
       "1        0          750             0              12    762  \n",
       "2      780         1600            54              21   2455  \n",
       "3     1100         3452           190              44   4786  \n",
       "4        0        15000          2334             226  17560  \n",
       "...    ...          ...           ...             ...    ...  \n",
       "6075     0         4350           385              66   4801  \n",
       "6076     0        12000           459             181  12640  \n",
       "6077     0         3180           100              48   3328  \n",
       "6078   680         8000           417             121   9218  \n",
       "6079   598         1780             0              23   2401  \n",
       "\n",
       "[6080 rows x 13 columns]"
      ]
     },
     "execution_count": 13,
     "metadata": {},
     "output_type": "execute_result"
    }
   ],
   "source": [
    "df.sample(frac =1).reset_index(drop = True)"
   ]
  },
  {
   "cell_type": "code",
   "execution_count": 14,
   "id": "powerful-vitamin",
   "metadata": {
    "execution": {
     "iopub.execute_input": "2021-06-05T16:06:34.363579Z",
     "iopub.status.busy": "2021-06-05T16:06:34.362933Z",
     "iopub.status.idle": "2021-06-05T16:06:34.368026Z",
     "shell.execute_reply": "2021-06-05T16:06:34.368559Z",
     "shell.execute_reply.started": "2021-06-05T16:05:52.004191Z"
    },
    "papermill": {
     "duration": 0.037277,
     "end_time": "2021-06-05T16:06:34.368740",
     "exception": false,
     "start_time": "2021-06-05T16:06:34.331463",
     "status": "completed"
    },
    "tags": []
   },
   "outputs": [],
   "source": [
    "y = df['city']\n",
    "x = df.drop('city', axis =1)"
   ]
  },
  {
   "cell_type": "code",
   "execution_count": 15,
   "id": "divine-strain",
   "metadata": {
    "execution": {
     "iopub.execute_input": "2021-06-05T16:06:34.432404Z",
     "iopub.status.busy": "2021-06-05T16:06:34.431712Z",
     "iopub.status.idle": "2021-06-05T16:06:34.448874Z",
     "shell.execute_reply": "2021-06-05T16:06:34.449401Z",
     "shell.execute_reply.started": "2021-06-05T16:05:52.013020Z"
    },
    "papermill": {
     "duration": 0.051014,
     "end_time": "2021-06-05T16:06:34.449627",
     "exception": false,
     "start_time": "2021-06-05T16:06:34.398613",
     "status": "completed"
    },
    "tags": []
   },
   "outputs": [
    {
     "data": {
      "text/html": [
       "<div>\n",
       "<style scoped>\n",
       "    .dataframe tbody tr th:only-of-type {\n",
       "        vertical-align: middle;\n",
       "    }\n",
       "\n",
       "    .dataframe tbody tr th {\n",
       "        vertical-align: top;\n",
       "    }\n",
       "\n",
       "    .dataframe thead th {\n",
       "        text-align: right;\n",
       "    }\n",
       "</style>\n",
       "<table border=\"1\" class=\"dataframe\">\n",
       "  <thead>\n",
       "    <tr style=\"text-align: right;\">\n",
       "      <th></th>\n",
       "      <th>area</th>\n",
       "      <th>rooms</th>\n",
       "      <th>bathroom</th>\n",
       "      <th>parking spaces</th>\n",
       "      <th>floor</th>\n",
       "      <th>animal</th>\n",
       "      <th>furniture</th>\n",
       "      <th>hoa</th>\n",
       "      <th>rent amount</th>\n",
       "      <th>property tax</th>\n",
       "      <th>fire insurance</th>\n",
       "      <th>total</th>\n",
       "    </tr>\n",
       "  </thead>\n",
       "  <tbody>\n",
       "    <tr>\n",
       "      <th>0</th>\n",
       "      <td>240</td>\n",
       "      <td>3</td>\n",
       "      <td>3</td>\n",
       "      <td>4</td>\n",
       "      <td>0</td>\n",
       "      <td>1</td>\n",
       "      <td>1</td>\n",
       "      <td>0</td>\n",
       "      <td>8000</td>\n",
       "      <td>1000</td>\n",
       "      <td>121</td>\n",
       "      <td>9121</td>\n",
       "    </tr>\n",
       "    <tr>\n",
       "      <th>1</th>\n",
       "      <td>64</td>\n",
       "      <td>2</td>\n",
       "      <td>1</td>\n",
       "      <td>1</td>\n",
       "      <td>10</td>\n",
       "      <td>1</td>\n",
       "      <td>0</td>\n",
       "      <td>540</td>\n",
       "      <td>820</td>\n",
       "      <td>122</td>\n",
       "      <td>11</td>\n",
       "      <td>1493</td>\n",
       "    </tr>\n",
       "    <tr>\n",
       "      <th>2</th>\n",
       "      <td>443</td>\n",
       "      <td>5</td>\n",
       "      <td>5</td>\n",
       "      <td>4</td>\n",
       "      <td>3</td>\n",
       "      <td>1</td>\n",
       "      <td>1</td>\n",
       "      <td>4172</td>\n",
       "      <td>7000</td>\n",
       "      <td>1417</td>\n",
       "      <td>89</td>\n",
       "      <td>12680</td>\n",
       "    </tr>\n",
       "    <tr>\n",
       "      <th>3</th>\n",
       "      <td>73</td>\n",
       "      <td>2</td>\n",
       "      <td>2</td>\n",
       "      <td>1</td>\n",
       "      <td>12</td>\n",
       "      <td>1</td>\n",
       "      <td>0</td>\n",
       "      <td>700</td>\n",
       "      <td>1250</td>\n",
       "      <td>150</td>\n",
       "      <td>16</td>\n",
       "      <td>2116</td>\n",
       "    </tr>\n",
       "    <tr>\n",
       "      <th>4</th>\n",
       "      <td>19</td>\n",
       "      <td>1</td>\n",
       "      <td>1</td>\n",
       "      <td>0</td>\n",
       "      <td>0</td>\n",
       "      <td>1</td>\n",
       "      <td>0</td>\n",
       "      <td>0</td>\n",
       "      <td>1200</td>\n",
       "      <td>41</td>\n",
       "      <td>16</td>\n",
       "      <td>1257</td>\n",
       "    </tr>\n",
       "    <tr>\n",
       "      <th>...</th>\n",
       "      <td>...</td>\n",
       "      <td>...</td>\n",
       "      <td>...</td>\n",
       "      <td>...</td>\n",
       "      <td>...</td>\n",
       "      <td>...</td>\n",
       "      <td>...</td>\n",
       "      <td>...</td>\n",
       "      <td>...</td>\n",
       "      <td>...</td>\n",
       "      <td>...</td>\n",
       "      <td>...</td>\n",
       "    </tr>\n",
       "    <tr>\n",
       "      <th>6075</th>\n",
       "      <td>50</td>\n",
       "      <td>2</td>\n",
       "      <td>1</td>\n",
       "      <td>1</td>\n",
       "      <td>2</td>\n",
       "      <td>1</td>\n",
       "      <td>0</td>\n",
       "      <td>420</td>\n",
       "      <td>1150</td>\n",
       "      <td>0</td>\n",
       "      <td>15</td>\n",
       "      <td>1585</td>\n",
       "    </tr>\n",
       "    <tr>\n",
       "      <th>6076</th>\n",
       "      <td>84</td>\n",
       "      <td>2</td>\n",
       "      <td>2</td>\n",
       "      <td>1</td>\n",
       "      <td>16</td>\n",
       "      <td>1</td>\n",
       "      <td>1</td>\n",
       "      <td>768</td>\n",
       "      <td>2900</td>\n",
       "      <td>63</td>\n",
       "      <td>37</td>\n",
       "      <td>3768</td>\n",
       "    </tr>\n",
       "    <tr>\n",
       "      <th>6077</th>\n",
       "      <td>48</td>\n",
       "      <td>1</td>\n",
       "      <td>1</td>\n",
       "      <td>0</td>\n",
       "      <td>13</td>\n",
       "      <td>1</td>\n",
       "      <td>0</td>\n",
       "      <td>250</td>\n",
       "      <td>950</td>\n",
       "      <td>42</td>\n",
       "      <td>13</td>\n",
       "      <td>1255</td>\n",
       "    </tr>\n",
       "    <tr>\n",
       "      <th>6078</th>\n",
       "      <td>160</td>\n",
       "      <td>3</td>\n",
       "      <td>2</td>\n",
       "      <td>2</td>\n",
       "      <td>0</td>\n",
       "      <td>1</td>\n",
       "      <td>0</td>\n",
       "      <td>0</td>\n",
       "      <td>3500</td>\n",
       "      <td>250</td>\n",
       "      <td>53</td>\n",
       "      <td>3803</td>\n",
       "    </tr>\n",
       "    <tr>\n",
       "      <th>6079</th>\n",
       "      <td>60</td>\n",
       "      <td>2</td>\n",
       "      <td>1</td>\n",
       "      <td>1</td>\n",
       "      <td>4</td>\n",
       "      <td>1</td>\n",
       "      <td>1</td>\n",
       "      <td>489</td>\n",
       "      <td>1900</td>\n",
       "      <td>0</td>\n",
       "      <td>25</td>\n",
       "      <td>2414</td>\n",
       "    </tr>\n",
       "  </tbody>\n",
       "</table>\n",
       "<p>6080 rows × 12 columns</p>\n",
       "</div>"
      ],
      "text/plain": [
       "      area  rooms  bathroom  parking spaces  floor  animal  furniture   hoa  \\\n",
       "0      240      3         3               4      0       1          1     0   \n",
       "1       64      2         1               1     10       1          0   540   \n",
       "2      443      5         5               4      3       1          1  4172   \n",
       "3       73      2         2               1     12       1          0   700   \n",
       "4       19      1         1               0      0       1          0     0   \n",
       "...    ...    ...       ...             ...    ...     ...        ...   ...   \n",
       "6075    50      2         1               1      2       1          0   420   \n",
       "6076    84      2         2               1     16       1          1   768   \n",
       "6077    48      1         1               0     13       1          0   250   \n",
       "6078   160      3         2               2      0       1          0     0   \n",
       "6079    60      2         1               1      4       1          1   489   \n",
       "\n",
       "      rent amount  property tax  fire insurance  total  \n",
       "0            8000          1000             121   9121  \n",
       "1             820           122              11   1493  \n",
       "2            7000          1417              89  12680  \n",
       "3            1250           150              16   2116  \n",
       "4            1200            41              16   1257  \n",
       "...           ...           ...             ...    ...  \n",
       "6075         1150             0              15   1585  \n",
       "6076         2900            63              37   3768  \n",
       "6077          950            42              13   1255  \n",
       "6078         3500           250              53   3803  \n",
       "6079         1900             0              25   2414  \n",
       "\n",
       "[6080 rows x 12 columns]"
      ]
     },
     "execution_count": 15,
     "metadata": {},
     "output_type": "execute_result"
    }
   ],
   "source": [
    "x"
   ]
  },
  {
   "cell_type": "code",
   "execution_count": 16,
   "id": "received-conference",
   "metadata": {
    "execution": {
     "iopub.execute_input": "2021-06-05T16:06:34.516224Z",
     "iopub.status.busy": "2021-06-05T16:06:34.515287Z",
     "iopub.status.idle": "2021-06-05T16:06:34.519140Z",
     "shell.execute_reply": "2021-06-05T16:06:34.519566Z",
     "shell.execute_reply.started": "2021-06-05T16:05:52.043190Z"
    },
    "papermill": {
     "duration": 0.040186,
     "end_time": "2021-06-05T16:06:34.519748",
     "exception": false,
     "start_time": "2021-06-05T16:06:34.479562",
     "status": "completed"
    },
    "tags": []
   },
   "outputs": [
    {
     "data": {
      "text/plain": [
       "0       1\n",
       "1       0\n",
       "2       1\n",
       "3       1\n",
       "4       1\n",
       "       ..\n",
       "6075    1\n",
       "6076    1\n",
       "6077    0\n",
       "6078    1\n",
       "6079    1\n",
       "Name: city, Length: 6080, dtype: int64"
      ]
     },
     "execution_count": 16,
     "metadata": {},
     "output_type": "execute_result"
    }
   ],
   "source": [
    "y"
   ]
  },
  {
   "cell_type": "code",
   "execution_count": 17,
   "id": "yellow-alliance",
   "metadata": {
    "execution": {
     "iopub.execute_input": "2021-06-05T16:06:34.583594Z",
     "iopub.status.busy": "2021-06-05T16:06:34.582610Z",
     "iopub.status.idle": "2021-06-05T16:06:35.605184Z",
     "shell.execute_reply": "2021-06-05T16:06:35.604487Z",
     "shell.execute_reply.started": "2021-06-05T16:05:52.060259Z"
    },
    "papermill": {
     "duration": 1.055588,
     "end_time": "2021-06-05T16:06:35.605356",
     "exception": false,
     "start_time": "2021-06-05T16:06:34.549768",
     "status": "completed"
    },
    "tags": []
   },
   "outputs": [],
   "source": [
    "from sklearn.model_selection import train_test_split\n"
   ]
  },
  {
   "cell_type": "code",
   "execution_count": 18,
   "id": "loving-macro",
   "metadata": {
    "execution": {
     "iopub.execute_input": "2021-06-05T16:06:35.672530Z",
     "iopub.status.busy": "2021-06-05T16:06:35.671853Z",
     "iopub.status.idle": "2021-06-05T16:06:35.679579Z",
     "shell.execute_reply": "2021-06-05T16:06:35.678991Z",
     "shell.execute_reply.started": "2021-06-05T16:05:52.081148Z"
    },
    "papermill": {
     "duration": 0.044504,
     "end_time": "2021-06-05T16:06:35.679720",
     "exception": false,
     "start_time": "2021-06-05T16:06:35.635216",
     "status": "completed"
    },
    "tags": []
   },
   "outputs": [],
   "source": [
    "from sklearn.preprocessing import MinMaxScaler\n",
    "scaler = MinMaxScaler()\n",
    "scaler.fit(x)\n",
    "x =scaler.transform(x)"
   ]
  },
  {
   "cell_type": "code",
   "execution_count": 19,
   "id": "computational-confidentiality",
   "metadata": {
    "execution": {
     "iopub.execute_input": "2021-06-05T16:06:35.747459Z",
     "iopub.status.busy": "2021-06-05T16:06:35.746602Z",
     "iopub.status.idle": "2021-06-05T16:06:35.749959Z",
     "shell.execute_reply": "2021-06-05T16:06:35.750454Z",
     "shell.execute_reply.started": "2021-06-05T16:05:52.100451Z"
    },
    "papermill": {
     "duration": 0.040735,
     "end_time": "2021-06-05T16:06:35.750627",
     "exception": false,
     "start_time": "2021-06-05T16:06:35.709892",
     "status": "completed"
    },
    "tags": []
   },
   "outputs": [
    {
     "data": {
      "text/plain": [
       "array([[9.35111400e-03, 2.22222222e-01, 2.22222222e-01, ...,\n",
       "        2.73000273e-03, 1.75074184e-01, 2.27421783e-02],\n",
       "       [2.19547894e-03, 1.11111111e-01, 0.00000000e+00, ...,\n",
       "        3.33060333e-04, 1.18694362e-02, 2.23900656e-03],\n",
       "       [1.76044885e-02, 4.44444444e-01, 4.44444444e-01, ...,\n",
       "        3.86841387e-03, 1.27596439e-01, 3.23083539e-02],\n",
       "       ...,\n",
       "       [1.54496666e-03, 0.00000000e+00, 0.00000000e+00, ...,\n",
       "        1.14660115e-04, 1.48367953e-02, 1.59929040e-03],\n",
       "       [6.09855261e-03, 2.22222222e-01, 1.11111111e-01, ...,\n",
       "        6.82500683e-04, 7.41839763e-02, 8.44801634e-03],\n",
       "       [2.03285087e-03, 1.11111111e-01, 0.00000000e+00, ...,\n",
       "        0.00000000e+00, 3.26409496e-02, 4.71454682e-03]])"
      ]
     },
     "execution_count": 19,
     "metadata": {},
     "output_type": "execute_result"
    }
   ],
   "source": [
    "x"
   ]
  },
  {
   "cell_type": "code",
   "execution_count": 20,
   "id": "necessary-rotation",
   "metadata": {
    "execution": {
     "iopub.execute_input": "2021-06-05T16:06:35.818389Z",
     "iopub.status.busy": "2021-06-05T16:06:35.817348Z",
     "iopub.status.idle": "2021-06-05T16:06:35.840674Z",
     "shell.execute_reply": "2021-06-05T16:06:35.841136Z",
     "shell.execute_reply.started": "2021-06-05T16:05:52.118646Z"
    },
    "papermill": {
     "duration": 0.057979,
     "end_time": "2021-06-05T16:06:35.841316",
     "exception": false,
     "start_time": "2021-06-05T16:06:35.783337",
     "status": "completed"
    },
    "tags": []
   },
   "outputs": [
    {
     "data": {
      "text/html": [
       "<div>\n",
       "<style scoped>\n",
       "    .dataframe tbody tr th:only-of-type {\n",
       "        vertical-align: middle;\n",
       "    }\n",
       "\n",
       "    .dataframe tbody tr th {\n",
       "        vertical-align: top;\n",
       "    }\n",
       "\n",
       "    .dataframe thead th {\n",
       "        text-align: right;\n",
       "    }\n",
       "</style>\n",
       "<table border=\"1\" class=\"dataframe\">\n",
       "  <thead>\n",
       "    <tr style=\"text-align: right;\">\n",
       "      <th></th>\n",
       "      <th>0</th>\n",
       "      <th>1</th>\n",
       "      <th>2</th>\n",
       "      <th>3</th>\n",
       "      <th>4</th>\n",
       "      <th>5</th>\n",
       "      <th>6</th>\n",
       "      <th>7</th>\n",
       "      <th>8</th>\n",
       "      <th>9</th>\n",
       "      <th>10</th>\n",
       "      <th>11</th>\n",
       "    </tr>\n",
       "  </thead>\n",
       "  <tbody>\n",
       "    <tr>\n",
       "      <th>0</th>\n",
       "      <td>0.009351</td>\n",
       "      <td>0.222222</td>\n",
       "      <td>0.222222</td>\n",
       "      <td>0.333333</td>\n",
       "      <td>0.000000</td>\n",
       "      <td>0.0</td>\n",
       "      <td>1.0</td>\n",
       "      <td>0.000000</td>\n",
       "      <td>0.170031</td>\n",
       "      <td>0.002730</td>\n",
       "      <td>0.175074</td>\n",
       "      <td>0.022742</td>\n",
       "    </tr>\n",
       "    <tr>\n",
       "      <th>1</th>\n",
       "      <td>0.002195</td>\n",
       "      <td>0.111111</td>\n",
       "      <td>0.000000</td>\n",
       "      <td>0.083333</td>\n",
       "      <td>0.101010</td>\n",
       "      <td>0.0</td>\n",
       "      <td>0.0</td>\n",
       "      <td>0.002455</td>\n",
       "      <td>0.008973</td>\n",
       "      <td>0.000333</td>\n",
       "      <td>0.011869</td>\n",
       "      <td>0.002239</td>\n",
       "    </tr>\n",
       "    <tr>\n",
       "      <th>2</th>\n",
       "      <td>0.017604</td>\n",
       "      <td>0.444444</td>\n",
       "      <td>0.444444</td>\n",
       "      <td>0.333333</td>\n",
       "      <td>0.030303</td>\n",
       "      <td>0.0</td>\n",
       "      <td>1.0</td>\n",
       "      <td>0.018964</td>\n",
       "      <td>0.147600</td>\n",
       "      <td>0.003868</td>\n",
       "      <td>0.127596</td>\n",
       "      <td>0.032308</td>\n",
       "    </tr>\n",
       "    <tr>\n",
       "      <th>3</th>\n",
       "      <td>0.002561</td>\n",
       "      <td>0.111111</td>\n",
       "      <td>0.111111</td>\n",
       "      <td>0.083333</td>\n",
       "      <td>0.121212</td>\n",
       "      <td>0.0</td>\n",
       "      <td>0.0</td>\n",
       "      <td>0.003182</td>\n",
       "      <td>0.018618</td>\n",
       "      <td>0.000410</td>\n",
       "      <td>0.019288</td>\n",
       "      <td>0.003914</td>\n",
       "    </tr>\n",
       "    <tr>\n",
       "      <th>4</th>\n",
       "      <td>0.000366</td>\n",
       "      <td>0.000000</td>\n",
       "      <td>0.000000</td>\n",
       "      <td>0.000000</td>\n",
       "      <td>0.000000</td>\n",
       "      <td>0.0</td>\n",
       "      <td>0.0</td>\n",
       "      <td>0.000000</td>\n",
       "      <td>0.017497</td>\n",
       "      <td>0.000112</td>\n",
       "      <td>0.019288</td>\n",
       "      <td>0.001605</td>\n",
       "    </tr>\n",
       "    <tr>\n",
       "      <th>...</th>\n",
       "      <td>...</td>\n",
       "      <td>...</td>\n",
       "      <td>...</td>\n",
       "      <td>...</td>\n",
       "      <td>...</td>\n",
       "      <td>...</td>\n",
       "      <td>...</td>\n",
       "      <td>...</td>\n",
       "      <td>...</td>\n",
       "      <td>...</td>\n",
       "      <td>...</td>\n",
       "      <td>...</td>\n",
       "    </tr>\n",
       "    <tr>\n",
       "      <th>6075</th>\n",
       "      <td>0.001626</td>\n",
       "      <td>0.111111</td>\n",
       "      <td>0.000000</td>\n",
       "      <td>0.083333</td>\n",
       "      <td>0.020202</td>\n",
       "      <td>0.0</td>\n",
       "      <td>0.0</td>\n",
       "      <td>0.001909</td>\n",
       "      <td>0.016375</td>\n",
       "      <td>0.000000</td>\n",
       "      <td>0.017804</td>\n",
       "      <td>0.002486</td>\n",
       "    </tr>\n",
       "    <tr>\n",
       "      <th>6076</th>\n",
       "      <td>0.003009</td>\n",
       "      <td>0.111111</td>\n",
       "      <td>0.111111</td>\n",
       "      <td>0.083333</td>\n",
       "      <td>0.161616</td>\n",
       "      <td>0.0</td>\n",
       "      <td>1.0</td>\n",
       "      <td>0.003491</td>\n",
       "      <td>0.055630</td>\n",
       "      <td>0.000172</td>\n",
       "      <td>0.050445</td>\n",
       "      <td>0.008354</td>\n",
       "    </tr>\n",
       "    <tr>\n",
       "      <th>6077</th>\n",
       "      <td>0.001545</td>\n",
       "      <td>0.000000</td>\n",
       "      <td>0.000000</td>\n",
       "      <td>0.000000</td>\n",
       "      <td>0.131313</td>\n",
       "      <td>0.0</td>\n",
       "      <td>0.0</td>\n",
       "      <td>0.001136</td>\n",
       "      <td>0.011889</td>\n",
       "      <td>0.000115</td>\n",
       "      <td>0.014837</td>\n",
       "      <td>0.001599</td>\n",
       "    </tr>\n",
       "    <tr>\n",
       "      <th>6078</th>\n",
       "      <td>0.006099</td>\n",
       "      <td>0.222222</td>\n",
       "      <td>0.111111</td>\n",
       "      <td>0.166667</td>\n",
       "      <td>0.000000</td>\n",
       "      <td>0.0</td>\n",
       "      <td>0.0</td>\n",
       "      <td>0.000000</td>\n",
       "      <td>0.069089</td>\n",
       "      <td>0.000683</td>\n",
       "      <td>0.074184</td>\n",
       "      <td>0.008448</td>\n",
       "    </tr>\n",
       "    <tr>\n",
       "      <th>6079</th>\n",
       "      <td>0.002033</td>\n",
       "      <td>0.111111</td>\n",
       "      <td>0.000000</td>\n",
       "      <td>0.083333</td>\n",
       "      <td>0.040404</td>\n",
       "      <td>0.0</td>\n",
       "      <td>1.0</td>\n",
       "      <td>0.002223</td>\n",
       "      <td>0.033199</td>\n",
       "      <td>0.000000</td>\n",
       "      <td>0.032641</td>\n",
       "      <td>0.004715</td>\n",
       "    </tr>\n",
       "  </tbody>\n",
       "</table>\n",
       "<p>6080 rows × 12 columns</p>\n",
       "</div>"
      ],
      "text/plain": [
       "            0         1         2         3         4    5    6         7   \\\n",
       "0     0.009351  0.222222  0.222222  0.333333  0.000000  0.0  1.0  0.000000   \n",
       "1     0.002195  0.111111  0.000000  0.083333  0.101010  0.0  0.0  0.002455   \n",
       "2     0.017604  0.444444  0.444444  0.333333  0.030303  0.0  1.0  0.018964   \n",
       "3     0.002561  0.111111  0.111111  0.083333  0.121212  0.0  0.0  0.003182   \n",
       "4     0.000366  0.000000  0.000000  0.000000  0.000000  0.0  0.0  0.000000   \n",
       "...        ...       ...       ...       ...       ...  ...  ...       ...   \n",
       "6075  0.001626  0.111111  0.000000  0.083333  0.020202  0.0  0.0  0.001909   \n",
       "6076  0.003009  0.111111  0.111111  0.083333  0.161616  0.0  1.0  0.003491   \n",
       "6077  0.001545  0.000000  0.000000  0.000000  0.131313  0.0  0.0  0.001136   \n",
       "6078  0.006099  0.222222  0.111111  0.166667  0.000000  0.0  0.0  0.000000   \n",
       "6079  0.002033  0.111111  0.000000  0.083333  0.040404  0.0  1.0  0.002223   \n",
       "\n",
       "            8         9         10        11  \n",
       "0     0.170031  0.002730  0.175074  0.022742  \n",
       "1     0.008973  0.000333  0.011869  0.002239  \n",
       "2     0.147600  0.003868  0.127596  0.032308  \n",
       "3     0.018618  0.000410  0.019288  0.003914  \n",
       "4     0.017497  0.000112  0.019288  0.001605  \n",
       "...        ...       ...       ...       ...  \n",
       "6075  0.016375  0.000000  0.017804  0.002486  \n",
       "6076  0.055630  0.000172  0.050445  0.008354  \n",
       "6077  0.011889  0.000115  0.014837  0.001599  \n",
       "6078  0.069089  0.000683  0.074184  0.008448  \n",
       "6079  0.033199  0.000000  0.032641  0.004715  \n",
       "\n",
       "[6080 rows x 12 columns]"
      ]
     },
     "execution_count": 20,
     "metadata": {},
     "output_type": "execute_result"
    }
   ],
   "source": [
    "pd.DataFrame(x)"
   ]
  },
  {
   "cell_type": "code",
   "execution_count": 21,
   "id": "functional-vegetable",
   "metadata": {
    "execution": {
     "iopub.execute_input": "2021-06-05T16:06:35.908555Z",
     "iopub.status.busy": "2021-06-05T16:06:35.907560Z",
     "iopub.status.idle": "2021-06-05T16:06:35.914255Z",
     "shell.execute_reply": "2021-06-05T16:06:35.914751Z",
     "shell.execute_reply.started": "2021-06-05T16:05:52.155575Z"
    },
    "papermill": {
     "duration": 0.042035,
     "end_time": "2021-06-05T16:06:35.914933",
     "exception": false,
     "start_time": "2021-06-05T16:06:35.872898",
     "status": "completed"
    },
    "tags": []
   },
   "outputs": [],
   "source": [
    "x_train, x_test, y_train, y_test = train_test_split(x,y, test_size = 0.2, random_state =42)"
   ]
  },
  {
   "cell_type": "code",
   "execution_count": 22,
   "id": "talented-wiring",
   "metadata": {
    "execution": {
     "iopub.execute_input": "2021-06-05T16:06:35.980606Z",
     "iopub.status.busy": "2021-06-05T16:06:35.979602Z",
     "iopub.status.idle": "2021-06-05T16:06:35.986093Z",
     "shell.execute_reply": "2021-06-05T16:06:35.985506Z",
     "shell.execute_reply.started": "2021-06-05T16:05:52.167160Z"
    },
    "papermill": {
     "duration": 0.040651,
     "end_time": "2021-06-05T16:06:35.986242",
     "exception": false,
     "start_time": "2021-06-05T16:06:35.945591",
     "status": "completed"
    },
    "tags": []
   },
   "outputs": [
    {
     "data": {
      "text/plain": [
       "(4864, 12)"
      ]
     },
     "execution_count": 22,
     "metadata": {},
     "output_type": "execute_result"
    }
   ],
   "source": [
    "x_train.shape"
   ]
  },
  {
   "cell_type": "code",
   "execution_count": 23,
   "id": "bearing-percentage",
   "metadata": {
    "execution": {
     "iopub.execute_input": "2021-06-05T16:06:36.054427Z",
     "iopub.status.busy": "2021-06-05T16:06:36.053678Z",
     "iopub.status.idle": "2021-06-05T16:06:36.056971Z",
     "shell.execute_reply": "2021-06-05T16:06:36.057469Z",
     "shell.execute_reply.started": "2021-06-05T16:05:52.181863Z"
    },
    "papermill": {
     "duration": 0.039528,
     "end_time": "2021-06-05T16:06:36.057643",
     "exception": false,
     "start_time": "2021-06-05T16:06:36.018115",
     "status": "completed"
    },
    "tags": []
   },
   "outputs": [
    {
     "data": {
      "text/plain": [
       "(1216, 12)"
      ]
     },
     "execution_count": 23,
     "metadata": {},
     "output_type": "execute_result"
    }
   ],
   "source": [
    "x_test.shape"
   ]
  },
  {
   "cell_type": "code",
   "execution_count": 24,
   "id": "compact-lincoln",
   "metadata": {
    "execution": {
     "iopub.execute_input": "2021-06-05T16:06:36.125930Z",
     "iopub.status.busy": "2021-06-05T16:06:36.125277Z",
     "iopub.status.idle": "2021-06-05T16:06:36.129832Z",
     "shell.execute_reply": "2021-06-05T16:06:36.130354Z",
     "shell.execute_reply.started": "2021-06-05T16:05:52.196602Z"
    },
    "papermill": {
     "duration": 0.040219,
     "end_time": "2021-06-05T16:06:36.130536",
     "exception": false,
     "start_time": "2021-06-05T16:06:36.090317",
     "status": "completed"
    },
    "tags": []
   },
   "outputs": [
    {
     "data": {
      "text/plain": [
       "(4864,)"
      ]
     },
     "execution_count": 24,
     "metadata": {},
     "output_type": "execute_result"
    }
   ],
   "source": [
    "y_train.shape"
   ]
  },
  {
   "cell_type": "code",
   "execution_count": 25,
   "id": "raised-sacramento",
   "metadata": {
    "execution": {
     "iopub.execute_input": "2021-06-05T16:06:36.199257Z",
     "iopub.status.busy": "2021-06-05T16:06:36.198234Z",
     "iopub.status.idle": "2021-06-05T16:06:36.206030Z",
     "shell.execute_reply": "2021-06-05T16:06:36.205366Z",
     "shell.execute_reply.started": "2021-06-05T16:05:52.212761Z"
    },
    "papermill": {
     "duration": 0.043114,
     "end_time": "2021-06-05T16:06:36.206173",
     "exception": false,
     "start_time": "2021-06-05T16:06:36.163059",
     "status": "completed"
    },
    "tags": []
   },
   "outputs": [
    {
     "data": {
      "text/plain": [
       "(1216,)"
      ]
     },
     "execution_count": 25,
     "metadata": {},
     "output_type": "execute_result"
    }
   ],
   "source": [
    "y_test.shape"
   ]
  },
  {
   "cell_type": "code",
   "execution_count": 26,
   "id": "united-cream",
   "metadata": {
    "execution": {
     "iopub.execute_input": "2021-06-05T16:06:36.276241Z",
     "iopub.status.busy": "2021-06-05T16:06:36.275445Z",
     "iopub.status.idle": "2021-06-05T16:06:36.384079Z",
     "shell.execute_reply": "2021-06-05T16:06:36.383488Z",
     "shell.execute_reply.started": "2021-06-05T16:05:52.228107Z"
    },
    "papermill": {
     "duration": 0.145336,
     "end_time": "2021-06-05T16:06:36.384236",
     "exception": false,
     "start_time": "2021-06-05T16:06:36.238900",
     "status": "completed"
    },
    "tags": []
   },
   "outputs": [],
   "source": [
    "from sklearn.linear_model import LogisticRegression\n",
    "from sklearn.svm import SVC\n",
    "from sklearn.neural_network import MLPClassifier"
   ]
  },
  {
   "cell_type": "code",
   "execution_count": 27,
   "id": "norman-swimming",
   "metadata": {
    "execution": {
     "iopub.execute_input": "2021-06-05T16:06:36.456485Z",
     "iopub.status.busy": "2021-06-05T16:06:36.455513Z",
     "iopub.status.idle": "2021-06-05T16:06:36.458788Z",
     "shell.execute_reply": "2021-06-05T16:06:36.458300Z",
     "shell.execute_reply.started": "2021-06-05T16:05:52.246206Z"
    },
    "papermill": {
     "duration": 0.041304,
     "end_time": "2021-06-05T16:06:36.458930",
     "exception": false,
     "start_time": "2021-06-05T16:06:36.417626",
     "status": "completed"
    },
    "tags": []
   },
   "outputs": [],
   "source": [
    "log_model = LogisticRegression(penalty = 'l2', verbose =1)\n",
    "svm_model = SVC(kernel = 'rbf', verbose =1)\n",
    "nn_model = MLPClassifier(hidden_layer_sizes = (16,16), verbose =1, activation = 'relu', solver = 'adam')"
   ]
  },
  {
   "cell_type": "code",
   "execution_count": 28,
   "id": "illegal-outside",
   "metadata": {
    "execution": {
     "iopub.execute_input": "2021-06-05T16:06:36.529739Z",
     "iopub.status.busy": "2021-06-05T16:06:36.528777Z",
     "iopub.status.idle": "2021-06-05T16:06:40.942446Z",
     "shell.execute_reply": "2021-06-05T16:06:40.942966Z",
     "shell.execute_reply.started": "2021-06-05T16:05:52.258032Z"
    },
    "papermill": {
     "duration": 4.451766,
     "end_time": "2021-06-05T16:06:40.943142",
     "exception": false,
     "start_time": "2021-06-05T16:06:36.491376",
     "status": "completed"
    },
    "tags": []
   },
   "outputs": [
    {
     "name": "stderr",
     "output_type": "stream",
     "text": [
      "[Parallel(n_jobs=1)]: Using backend SequentialBackend with 1 concurrent workers.\n",
      "[Parallel(n_jobs=1)]: Done   1 out of   1 | elapsed:    0.0s finished\n"
     ]
    },
    {
     "name": "stdout",
     "output_type": "stream",
     "text": [
      "[LibSVM]Iteration 1, loss = 0.53391368\n",
      "Iteration 2, loss = 0.44984585\n",
      "Iteration 3, loss = 0.40534848\n",
      "Iteration 4, loss = 0.39457230\n",
      "Iteration 5, loss = 0.39251160\n",
      "Iteration 6, loss = 0.39081179\n",
      "Iteration 7, loss = 0.38933859\n",
      "Iteration 8, loss = 0.38800766\n",
      "Iteration 9, loss = 0.38648207\n",
      "Iteration 10, loss = 0.38526398\n",
      "Iteration 11, loss = 0.38402093\n",
      "Iteration 12, loss = 0.38270230\n",
      "Iteration 13, loss = 0.38146274\n",
      "Iteration 14, loss = 0.38045531\n",
      "Iteration 15, loss = 0.37902963\n",
      "Iteration 16, loss = 0.37750053\n",
      "Iteration 17, loss = 0.37625675\n",
      "Iteration 18, loss = 0.37495973\n",
      "Iteration 19, loss = 0.37346359\n",
      "Iteration 20, loss = 0.37214433\n",
      "Iteration 21, loss = 0.37051984\n",
      "Iteration 22, loss = 0.36914130\n",
      "Iteration 23, loss = 0.36770913\n",
      "Iteration 24, loss = 0.36634333\n",
      "Iteration 25, loss = 0.36483543\n",
      "Iteration 26, loss = 0.36347976\n",
      "Iteration 27, loss = 0.36212317\n",
      "Iteration 28, loss = 0.36128022\n",
      "Iteration 29, loss = 0.36045285\n",
      "Iteration 30, loss = 0.35935199\n",
      "Iteration 31, loss = 0.35875661\n",
      "Iteration 32, loss = 0.35700137\n",
      "Iteration 33, loss = 0.35605710\n",
      "Iteration 34, loss = 0.35519351\n",
      "Iteration 35, loss = 0.35440961\n",
      "Iteration 36, loss = 0.35358979\n",
      "Iteration 37, loss = 0.35296730\n",
      "Iteration 38, loss = 0.35212226\n",
      "Iteration 39, loss = 0.35157861\n",
      "Iteration 40, loss = 0.35096863\n",
      "Iteration 41, loss = 0.35016041\n",
      "Iteration 42, loss = 0.34962111\n",
      "Iteration 43, loss = 0.34942627\n",
      "Iteration 44, loss = 0.34937658\n",
      "Iteration 45, loss = 0.34799801\n",
      "Iteration 46, loss = 0.34756623\n",
      "Iteration 47, loss = 0.34762449\n",
      "Iteration 48, loss = 0.34618487\n",
      "Iteration 49, loss = 0.34542558\n",
      "Iteration 50, loss = 0.34508257\n",
      "Iteration 51, loss = 0.34447249\n",
      "Iteration 52, loss = 0.34384618\n",
      "Iteration 53, loss = 0.34237498\n",
      "Iteration 54, loss = 0.34165971\n",
      "Iteration 55, loss = 0.34046707\n",
      "Iteration 56, loss = 0.33984140\n",
      "Iteration 57, loss = 0.33975909\n",
      "Iteration 58, loss = 0.33781285\n",
      "Iteration 59, loss = 0.33652099\n",
      "Iteration 60, loss = 0.33578122\n",
      "Iteration 61, loss = 0.33462502\n",
      "Iteration 62, loss = 0.33465343\n",
      "Iteration 63, loss = 0.33263364\n",
      "Iteration 64, loss = 0.33148905\n",
      "Iteration 65, loss = 0.33037560\n",
      "Iteration 66, loss = 0.32921336\n",
      "Iteration 67, loss = 0.32823985\n",
      "Iteration 68, loss = 0.32742193\n",
      "Iteration 69, loss = 0.32570421\n",
      "Iteration 70, loss = 0.32517723\n",
      "Iteration 71, loss = 0.32369399\n",
      "Iteration 72, loss = 0.32314098\n",
      "Iteration 73, loss = 0.32172517\n",
      "Iteration 74, loss = 0.32199994\n",
      "Iteration 75, loss = 0.32146129\n",
      "Iteration 76, loss = 0.31970140\n",
      "Iteration 77, loss = 0.31875282\n",
      "Iteration 78, loss = 0.31771864\n",
      "Iteration 79, loss = 0.31735714\n",
      "Iteration 80, loss = 0.31698890\n",
      "Iteration 81, loss = 0.31665319\n",
      "Iteration 82, loss = 0.31524032\n",
      "Iteration 83, loss = 0.31462667\n",
      "Iteration 84, loss = 0.31420925\n",
      "Iteration 85, loss = 0.31374112\n",
      "Iteration 86, loss = 0.31306163\n",
      "Iteration 87, loss = 0.31250426\n",
      "Iteration 88, loss = 0.31221154\n",
      "Iteration 89, loss = 0.31119918\n",
      "Iteration 90, loss = 0.31118418\n",
      "Iteration 91, loss = 0.31051019\n",
      "Iteration 92, loss = 0.31016672\n",
      "Iteration 93, loss = 0.30995364\n",
      "Iteration 94, loss = 0.30978687\n",
      "Iteration 95, loss = 0.30913143\n",
      "Iteration 96, loss = 0.31008994\n",
      "Iteration 97, loss = 0.30873230\n",
      "Iteration 98, loss = 0.30798994\n",
      "Iteration 99, loss = 0.30766278\n",
      "Iteration 100, loss = 0.30760351\n",
      "Iteration 101, loss = 0.30804004\n",
      "Iteration 102, loss = 0.30708584\n",
      "Iteration 103, loss = 0.30617308\n",
      "Iteration 104, loss = 0.30611911\n",
      "Iteration 105, loss = 0.30573445\n",
      "Iteration 106, loss = 0.30573527\n",
      "Iteration 107, loss = 0.30513311\n",
      "Iteration 108, loss = 0.30553011\n",
      "Iteration 109, loss = 0.30471232\n",
      "Iteration 110, loss = 0.30410117\n",
      "Iteration 111, loss = 0.30491292\n",
      "Iteration 112, loss = 0.30386956\n",
      "Iteration 113, loss = 0.30363149\n",
      "Iteration 114, loss = 0.30389398\n",
      "Iteration 115, loss = 0.30381273\n",
      "Iteration 116, loss = 0.30301784\n",
      "Iteration 117, loss = 0.30273667\n",
      "Iteration 118, loss = 0.30282193\n",
      "Iteration 119, loss = 0.30257754\n",
      "Iteration 120, loss = 0.30294607\n",
      "Iteration 121, loss = 0.30186288\n",
      "Iteration 122, loss = 0.30147883\n",
      "Iteration 123, loss = 0.30221470\n",
      "Iteration 124, loss = 0.30161724\n",
      "Iteration 125, loss = 0.30111301\n",
      "Iteration 126, loss = 0.30090323\n",
      "Iteration 127, loss = 0.30086755\n",
      "Iteration 128, loss = 0.30037348\n",
      "Iteration 129, loss = 0.29977665\n",
      "Iteration 130, loss = 0.30001625\n",
      "Iteration 131, loss = 0.29944871\n",
      "Iteration 132, loss = 0.29927956\n",
      "Iteration 133, loss = 0.29967293\n",
      "Iteration 134, loss = 0.29877352\n",
      "Iteration 135, loss = 0.29979766\n",
      "Iteration 136, loss = 0.29834098\n",
      "Iteration 137, loss = 0.29844802\n",
      "Iteration 138, loss = 0.29764238\n",
      "Iteration 139, loss = 0.29757073\n",
      "Iteration 140, loss = 0.29766420\n",
      "Iteration 141, loss = 0.29751462\n",
      "Iteration 142, loss = 0.29693646\n",
      "Iteration 143, loss = 0.29731993\n",
      "Iteration 144, loss = 0.29661757\n",
      "Iteration 145, loss = 0.29695319\n",
      "Iteration 146, loss = 0.29561163\n",
      "Iteration 147, loss = 0.29687444\n",
      "Iteration 148, loss = 0.29597733\n",
      "Iteration 149, loss = 0.29599882\n",
      "Iteration 150, loss = 0.29533492\n",
      "Iteration 151, loss = 0.29518898\n",
      "Iteration 152, loss = 0.29519522\n",
      "Iteration 153, loss = 0.29473681\n",
      "Iteration 154, loss = 0.29480116\n",
      "Iteration 155, loss = 0.29459462\n",
      "Iteration 156, loss = 0.29429852\n",
      "Iteration 157, loss = 0.29360645\n",
      "Iteration 158, loss = 0.29349408\n",
      "Iteration 159, loss = 0.29333762\n",
      "Iteration 160, loss = 0.29338752\n",
      "Iteration 161, loss = 0.29330883\n",
      "Iteration 162, loss = 0.29291474\n",
      "Iteration 163, loss = 0.29238616\n",
      "Iteration 164, loss = 0.29246605\n",
      "Iteration 165, loss = 0.29219851\n",
      "Iteration 166, loss = 0.29226799\n",
      "Iteration 167, loss = 0.29203974\n",
      "Iteration 168, loss = 0.29188463\n",
      "Iteration 169, loss = 0.29169239\n",
      "Iteration 170, loss = 0.29138966\n",
      "Iteration 171, loss = 0.29147796\n",
      "Iteration 172, loss = 0.29155367\n",
      "Iteration 173, loss = 0.29065083\n",
      "Iteration 174, loss = 0.29068898\n",
      "Iteration 175, loss = 0.29036094\n",
      "Iteration 176, loss = 0.29018183\n",
      "Iteration 177, loss = 0.29065790\n",
      "Iteration 178, loss = 0.29005702\n",
      "Iteration 179, loss = 0.29020119\n",
      "Iteration 180, loss = 0.29005253\n",
      "Iteration 181, loss = 0.29003084\n",
      "Iteration 182, loss = 0.28963555\n",
      "Iteration 183, loss = 0.28918141\n",
      "Iteration 184, loss = 0.28920228\n",
      "Iteration 185, loss = 0.28914270\n",
      "Iteration 186, loss = 0.28896575\n",
      "Iteration 187, loss = 0.28895920\n",
      "Iteration 188, loss = 0.28906844\n",
      "Iteration 189, loss = 0.28941405\n",
      "Iteration 190, loss = 0.28919755\n",
      "Iteration 191, loss = 0.28815749\n",
      "Iteration 192, loss = 0.28800186\n",
      "Iteration 193, loss = 0.28805669\n",
      "Iteration 194, loss = 0.28804775\n",
      "Iteration 195, loss = 0.28754867\n",
      "Iteration 196, loss = 0.28764513\n",
      "Iteration 197, loss = 0.28775092\n",
      "Iteration 198, loss = 0.28722420\n",
      "Iteration 199, loss = 0.28744504\n",
      "Iteration 200, loss = 0.28751677\n"
     ]
    },
    {
     "name": "stderr",
     "output_type": "stream",
     "text": [
      "/opt/conda/lib/python3.7/site-packages/sklearn/neural_network/_multilayer_perceptron.py:617: ConvergenceWarning: Stochastic Optimizer: Maximum iterations (200) reached and the optimization hasn't converged yet.\n",
      "  % self.max_iter, ConvergenceWarning)\n"
     ]
    },
    {
     "data": {
      "text/plain": [
       "MLPClassifier(hidden_layer_sizes=(16, 16), verbose=1)"
      ]
     },
     "execution_count": 28,
     "metadata": {},
     "output_type": "execute_result"
    }
   ],
   "source": [
    "log_model.fit(x_train,y_train)\n",
    "svm_model.fit(x_train,y_train)\n",
    "nn_model.fit(x_train,y_train)"
   ]
  },
  {
   "cell_type": "code",
   "execution_count": 29,
   "id": "connected-startup",
   "metadata": {
    "execution": {
     "iopub.execute_input": "2021-06-05T16:06:41.034721Z",
     "iopub.status.busy": "2021-06-05T16:06:41.033563Z",
     "iopub.status.idle": "2021-06-05T16:06:41.230376Z",
     "shell.execute_reply": "2021-06-05T16:06:41.232067Z",
     "shell.execute_reply.started": "2021-06-05T16:05:56.683684Z"
    },
    "papermill": {
     "duration": 0.250332,
     "end_time": "2021-06-05T16:06:41.232422",
     "exception": false,
     "start_time": "2021-06-05T16:06:40.982090",
     "status": "completed"
    },
    "tags": []
   },
   "outputs": [
    {
     "name": "stdout",
     "output_type": "stream",
     "text": [
      "0.8618421052631579\n",
      "0.8618421052631579\n",
      "0.890625\n"
     ]
    }
   ],
   "source": [
    "print(log_model.score(x_test, y_test))\n",
    "print(svm_model.score(x_test, y_test))\n",
    "print(nn_model.score(x_test, y_test))"
   ]
  },
  {
   "cell_type": "code",
   "execution_count": 30,
   "id": "essential-polyester",
   "metadata": {
    "execution": {
     "iopub.execute_input": "2021-06-05T16:06:41.364224Z",
     "iopub.status.busy": "2021-06-05T16:06:41.363250Z",
     "iopub.status.idle": "2021-06-05T16:06:41.366225Z",
     "shell.execute_reply": "2021-06-05T16:06:41.365681Z",
     "shell.execute_reply.started": "2021-06-05T16:05:56.885109Z"
    },
    "papermill": {
     "duration": 0.062493,
     "end_time": "2021-06-05T16:06:41.366368",
     "exception": false,
     "start_time": "2021-06-05T16:06:41.303875",
     "status": "completed"
    },
    "tags": []
   },
   "outputs": [],
   "source": [
    "from sklearn.metrics import f1_score\n"
   ]
  },
  {
   "cell_type": "code",
   "execution_count": 31,
   "id": "physical-mouth",
   "metadata": {
    "execution": {
     "iopub.execute_input": "2021-06-05T16:06:41.458843Z",
     "iopub.status.busy": "2021-06-05T16:06:41.457625Z",
     "iopub.status.idle": "2021-06-05T16:06:41.638975Z",
     "shell.execute_reply": "2021-06-05T16:06:41.639921Z",
     "shell.execute_reply.started": "2021-06-05T16:05:56.893143Z"
    },
    "papermill": {
     "duration": 0.233722,
     "end_time": "2021-06-05T16:06:41.640219",
     "exception": false,
     "start_time": "2021-06-05T16:06:41.406497",
     "status": "completed"
    },
    "tags": []
   },
   "outputs": [],
   "source": [
    "log_model = log_model.predict(x_test)\n",
    "svm_model= svm_model.predict(x_test)\n",
    "nn_model= nn_model.predict(x_test)"
   ]
  },
  {
   "cell_type": "code",
   "execution_count": 32,
   "id": "dental-spice",
   "metadata": {
    "execution": {
     "iopub.execute_input": "2021-06-05T16:06:41.774544Z",
     "iopub.status.busy": "2021-06-05T16:06:41.773619Z",
     "iopub.status.idle": "2021-06-05T16:06:41.782815Z",
     "shell.execute_reply": "2021-06-05T16:06:41.783609Z",
     "shell.execute_reply.started": "2021-06-05T16:05:57.094965Z"
    },
    "papermill": {
     "duration": 0.072372,
     "end_time": "2021-06-05T16:06:41.783858",
     "exception": false,
     "start_time": "2021-06-05T16:06:41.711486",
     "status": "completed"
    },
    "tags": []
   },
   "outputs": [
    {
     "name": "stdout",
     "output_type": "stream",
     "text": [
      "0.9257950530035335\n",
      "0.9257950530035335\n",
      "0.9397371998187586\n"
     ]
    }
   ],
   "source": [
    "print(f1_score(log_model, y_test))\n",
    "print(f1_score(svm_model, y_test))\n",
    "print(f1_score(nn_model, y_test))"
   ]
  }
 ],
 "metadata": {
  "kernelspec": {
   "display_name": "Python 3",
   "language": "python",
   "name": "python3"
  },
  "language_info": {
   "codemirror_mode": {
    "name": "ipython",
    "version": 3
   },
   "file_extension": ".py",
   "mimetype": "text/x-python",
   "name": "python",
   "nbconvert_exporter": "python",
   "pygments_lexer": "ipython3",
   "version": "3.7.10"
  },
  "papermill": {
   "default_parameters": {},
   "duration": 18.952534,
   "end_time": "2021-06-05T16:06:43.407369",
   "environment_variables": {},
   "exception": null,
   "input_path": "__notebook__.ipynb",
   "output_path": "__notebook__.ipynb",
   "parameters": {},
   "start_time": "2021-06-05T16:06:24.454835",
   "version": "2.3.3"
  }
 },
 "nbformat": 4,
 "nbformat_minor": 5
}
